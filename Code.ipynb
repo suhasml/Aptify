{
 "cells": [
  {
   "cell_type": "code",
   "execution_count": 1,
   "metadata": {},
   "outputs": [],
   "source": [
    "import requests\n",
    "import json"
   ]
  },
  {
   "cell_type": "code",
   "execution_count": 2,
   "metadata": {},
   "outputs": [],
   "source": [
    "APTOS_API_URL = \"https://fullnode.devnet.aptoslabs.com/v1\"\n",
    "CONTRACT_ADDRESS = \"0x1\""
   ]
  },
  {
   "cell_type": "code",
   "execution_count": 3,
   "metadata": {},
   "outputs": [],
   "source": [
    "def create_nft(account_address, nft_id, nft_name):\n",
    "    url = f\"{APTOS_API_URL}/transactions\"\n",
    "    payload = {\n",
    "        \"type\": \"entry_function_payload\",\n",
    "        \"function\": f\"{CONTRACT_ADDRESS}::NFT::create_nft\",\n",
    "        \"type_arguments\": [],\n",
    "        \"arguments\": [nft_id, nft_name],\n",
    "        \"signer\": account_address\n",
    "    }\n",
    "    response = requests.post(url, json=payload)\n",
    "    return response.json()"
   ]
  },
  {
   "cell_type": "code",
   "execution_count": 4,
   "metadata": {},
   "outputs": [],
   "source": [
    "def transfer_nft(account_address, recipient_address, nft_id):\n",
    "    url = f\"{APTOS_API_URL}/transactions\"\n",
    "    payload = {\n",
    "        \"type\": \"entry_function_payload\",\n",
    "        \"function\": f\"{CONTRACT_ADDRESS}::NFT::transfer_nft\",\n",
    "        \"type_arguments\": [],\n",
    "        \"arguments\": [recipient_address, nft_id],\n",
    "        \"signer\": account_address\n",
    "    }\n",
    "    response = requests.post(url, json=payload)\n",
    "    return response.json()"
   ]
  },
  {
   "cell_type": "code",
   "execution_count": 5,
   "metadata": {},
   "outputs": [],
   "source": [
    "def get_nft(account_address, nft_id):\n",
    "    url = f\"{APTOS_API_URL}/accounts/{account_address}/nfts/{nft_id}\"\n",
    "    response = requests.get(url)\n",
    "    return response.json()"
   ]
  },
  {
   "cell_type": "code",
   "execution_count": 6,
   "metadata": {},
   "outputs": [],
   "source": [
    "def main():\n",
    "    account_address = \"your_account_address\"\n",
    "    nft_id = 1\n",
    "    nft_name = \"My First NFT\"\n",
    "\n",
    "    # Create an NFT\n",
    "    print(\"Creating NFT...\")\n",
    "    response = create_nft(account_address, nft_id, nft_name)\n",
    "    print(response)\n",
    "\n",
    "    # Transfer the NFT\n",
    "    recipient_address = \"recipient_address\"\n",
    "    print(\"Transferring NFT...\")\n",
    "    response = transfer_nft(account_address, recipient_address, nft_id)\n",
    "    print(response)\n",
    "\n",
    "    # Get NFT details\n",
    "    print(\"Getting NFT details...\")\n",
    "    nft_details = get_nft(account_address, nft_id)\n",
    "    print(nft_details)\n"
   ]
  },
  {
   "cell_type": "code",
   "execution_count": 7,
   "metadata": {},
   "outputs": [
    {
     "name": "stdout",
     "output_type": "stream",
     "text": [
      "Creating NFT...\n",
      "{'message': 'parse request payload error: failed to parse \"string(Address)\": invalid type: null, expected a string (occurred while parsing \"UserTransactionRequestInner\") (occurred while parsing \"SubmitTransactionRequest\")', 'error_code': 'web_framework_error', 'vm_error_code': None}\n",
      "Transferring NFT...\n",
      "{'message': 'parse request payload error: failed to parse \"string(Address)\": invalid type: null, expected a string (occurred while parsing \"UserTransactionRequestInner\") (occurred while parsing \"SubmitTransactionRequest\")', 'error_code': 'web_framework_error', 'vm_error_code': None}\n",
      "Getting NFT details...\n",
      "{'message': 'not found', 'error_code': 'web_framework_error', 'vm_error_code': None}\n"
     ]
    }
   ],
   "source": [
    "if __name__ == \"__main__\":\n",
    "    main()"
   ]
  }
 ],
 "metadata": {
  "kernelspec": {
   "display_name": "Python 3",
   "language": "python",
   "name": "python3"
  },
  "language_info": {
   "codemirror_mode": {
    "name": "ipython",
    "version": 3
   },
   "file_extension": ".py",
   "mimetype": "text/x-python",
   "name": "python",
   "nbconvert_exporter": "python",
   "pygments_lexer": "ipython3",
   "version": "3.10.4"
  }
 },
 "nbformat": 4,
 "nbformat_minor": 2
}
